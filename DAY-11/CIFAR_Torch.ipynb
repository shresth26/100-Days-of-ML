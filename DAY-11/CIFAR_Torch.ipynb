{
  "nbformat": 4,
  "nbformat_minor": 0,
  "metadata": {
    "colab": {
      "name": "CIFAR-Torch.ipynb",
      "provenance": []
    },
    "kernelspec": {
      "name": "python3",
      "display_name": "Python 3"
    }
  },
  "cells": [
    {
      "cell_type": "code",
      "metadata": {
        "id": "Cxbka_GfA3z1",
        "colab_type": "code",
        "colab": {}
      },
      "source": [
        "import torch\n",
        "import torchvision\n",
        "import torchvision.transforms as transforms"
      ],
      "execution_count": 0,
      "outputs": []
    },
    {
      "cell_type": "code",
      "metadata": {
        "id": "GDSoWbfSBB1V",
        "colab_type": "code",
        "outputId": "b33aee67-13d6-4e16-fe3a-439da8561399",
        "colab": {
          "base_uri": "https://localhost:8080/",
          "height": 34
        }
      },
      "source": [
        "trainset = torchvision.datasets.CIFAR10(root ='./datasets', train = True, download = True, transform = transforms.ToTensor())\n"
      ],
      "execution_count": 0,
      "outputs": [
        {
          "output_type": "stream",
          "text": [
            "Files already downloaded and verified\n"
          ],
          "name": "stdout"
        }
      ]
    },
    {
      "cell_type": "code",
      "metadata": {
        "id": "eEqtFcNvBa7r",
        "colab_type": "code",
        "outputId": "d6f502fe-8312-4a65-9bea-4d430ebfc967",
        "colab": {
          "base_uri": "https://localhost:8080/",
          "height": 121
        }
      },
      "source": [
        "trainset"
      ],
      "execution_count": 0,
      "outputs": [
        {
          "output_type": "execute_result",
          "data": {
            "text/plain": [
              "Dataset CIFAR10\n",
              "    Number of datapoints: 50000\n",
              "    Root location: ./datasets\n",
              "    Split: Train\n",
              "    StandardTransform\n",
              "Transform: ToTensor()"
            ]
          },
          "metadata": {
            "tags": []
          },
          "execution_count": 49
        }
      ]
    },
    {
      "cell_type": "code",
      "metadata": {
        "id": "1Nj1w40RBhlM",
        "colab_type": "code",
        "colab": {}
      },
      "source": [
        "trainloader = torch.utils.data.DataLoader(trainset, batch_size = 8, shuffle = True, num_workers = 2)"
      ],
      "execution_count": 0,
      "outputs": []
    },
    {
      "cell_type": "code",
      "metadata": {
        "id": "dm1AQju8B2qI",
        "colab_type": "code",
        "outputId": "471eb5a9-e245-4464-8959-3ded26780bac",
        "colab": {
          "base_uri": "https://localhost:8080/",
          "height": 34
        }
      },
      "source": [
        "testset = torchvision.datasets.CIFAR10(root = './datasets', train = False, download = True, transform = transforms.ToTensor())"
      ],
      "execution_count": 0,
      "outputs": [
        {
          "output_type": "stream",
          "text": [
            "Files already downloaded and verified\n"
          ],
          "name": "stdout"
        }
      ]
    },
    {
      "cell_type": "code",
      "metadata": {
        "id": "A93vKqHXCgJm",
        "colab_type": "code",
        "outputId": "e3b4c074-f257-4c89-c6cb-c046909dfd6f",
        "colab": {
          "base_uri": "https://localhost:8080/",
          "height": 121
        }
      },
      "source": [
        "testset"
      ],
      "execution_count": 0,
      "outputs": [
        {
          "output_type": "execute_result",
          "data": {
            "text/plain": [
              "Dataset CIFAR10\n",
              "    Number of datapoints: 10000\n",
              "    Root location: ./datasets\n",
              "    Split: Test\n",
              "    StandardTransform\n",
              "Transform: ToTensor()"
            ]
          },
          "metadata": {
            "tags": []
          },
          "execution_count": 52
        }
      ]
    },
    {
      "cell_type": "code",
      "metadata": {
        "id": "CHRWyNkeCMKU",
        "colab_type": "code",
        "colab": {}
      },
      "source": [
        "testloader = torch.utils.data.DataLoader(testset, batch_size = 8, shuffle = False, num_workers = 2)"
      ],
      "execution_count": 0,
      "outputs": []
    },
    {
      "cell_type": "code",
      "metadata": {
        "id": "ejdA0FYaChbN",
        "colab_type": "code",
        "colab": {}
      },
      "source": [
        "labels = ('plane', 'car', 'bird', 'cat','deer', 'dog', 'frog', 'horses', 'ship', 'truck')"
      ],
      "execution_count": 0,
      "outputs": []
    },
    {
      "cell_type": "code",
      "metadata": {
        "id": "JblMz_EGELow",
        "colab_type": "code",
        "colab": {}
      },
      "source": [
        "import matplotlib.pyplot as plt\n",
        "import numpy as np"
      ],
      "execution_count": 0,
      "outputs": []
    },
    {
      "cell_type": "code",
      "metadata": {
        "id": "m86wQAeJERv_",
        "colab_type": "code",
        "colab": {}
      },
      "source": [
        "images_batch, labels_batch = iter(trainloader).next()\n"
      ],
      "execution_count": 0,
      "outputs": []
    },
    {
      "cell_type": "code",
      "metadata": {
        "id": "u9lICwU4Egrb",
        "colab_type": "code",
        "outputId": "c0312114-6658-49ca-b8b6-85d90ea2e94f",
        "colab": {
          "base_uri": "https://localhost:8080/",
          "height": 34
        }
      },
      "source": [
        "images_batch.shape"
      ],
      "execution_count": 0,
      "outputs": [
        {
          "output_type": "execute_result",
          "data": {
            "text/plain": [
              "torch.Size([8, 3, 32, 32])"
            ]
          },
          "metadata": {
            "tags": []
          },
          "execution_count": 57
        }
      ]
    },
    {
      "cell_type": "code",
      "metadata": {
        "id": "xXWehIPxEkIQ",
        "colab_type": "code",
        "outputId": "b9bc0516-f6bd-4137-ade2-c133015adc62",
        "colab": {
          "base_uri": "https://localhost:8080/",
          "height": 34
        }
      },
      "source": [
        "img = torchvision.utils.make_grid(images_batch)\n",
        "img.shape"
      ],
      "execution_count": 0,
      "outputs": [
        {
          "output_type": "execute_result",
          "data": {
            "text/plain": [
              "torch.Size([3, 36, 274])"
            ]
          },
          "metadata": {
            "tags": []
          },
          "execution_count": 58
        }
      ]
    },
    {
      "cell_type": "code",
      "metadata": {
        "id": "uqy3EfuCFjAO",
        "colab_type": "code",
        "outputId": "8818fbdd-2678-4022-a17c-f75979277669",
        "colab": {
          "base_uri": "https://localhost:8080/",
          "height": 34
        }
      },
      "source": [
        "np.transpose(img, (1, 2, 0)).shape"
      ],
      "execution_count": 0,
      "outputs": [
        {
          "output_type": "execute_result",
          "data": {
            "text/plain": [
              "torch.Size([36, 274, 3])"
            ]
          },
          "metadata": {
            "tags": []
          },
          "execution_count": 59
        }
      ]
    },
    {
      "cell_type": "code",
      "metadata": {
        "id": "8465lfPdGkrc",
        "colab_type": "code",
        "outputId": "d3967ee7-b2c8-4e2e-fa1f-2b7b17294852",
        "colab": {
          "base_uri": "https://localhost:8080/",
          "height": 75
        }
      },
      "source": [
        "plt.imshow(np.transpose(img, (1, 2, 0)))\n",
        "plt.axis('off')\n",
        "plt.show()"
      ],
      "execution_count": 0,
      "outputs": [
        {
          "output_type": "display_data",
          "data": {
            "image/png": "[encoded data removed]",
            "text/plain": [
              "<Figure size 432x288 with 1 Axes>"
            ]
          },
          "metadata": {
            "tags": [],
            "needs_background": "light"
          }
        }
      ]
    },
    {
      "cell_type": "code",
      "metadata": {
        "id": "f_onDFGjGtr0",
        "colab_type": "code",
        "colab": {}
      },
      "source": [
        "import torch\n",
        "import torch.nn as nn"
      ],
      "execution_count": 0,
      "outputs": []
    },
    {
      "cell_type": "code",
      "metadata": {
        "id": "b6MeCH86KuC4",
        "colab_type": "code",
        "colab": {}
      },
      "source": [
        "input_size = 3\n",
        "hidden1 = 16\n",
        "hidden2 = 32\n",
        "output_size = len(labels)\n",
        "k_conv_size = 5"
      ],
      "execution_count": 0,
      "outputs": []
    },
    {
      "cell_type": "code",
      "metadata": {
        "id": "BF-J9b2ILFnt",
        "colab_type": "code",
        "colab": {}
      },
      "source": [
        "class ConvNet(nn.Module):\n",
        "  def __init__(self):\n",
        "    super(ConvNet, self).__init__()\n",
        "\n",
        "    self.layer1 = nn.Sequential(\n",
        "        nn.Conv2d(input_size, hidden1, k_conv_size),\n",
        "        nn.BatchNorm2d(hidden1),\n",
        "        nn.ReLU(),\n",
        "        nn.MaxPool2d(kernel_size = 2))\n",
        "    self.layer2 = nn.Sequential(\n",
        "        nn.Conv2d(hidden1, hidden2, k_conv_size),\n",
        "        nn.BatchNorm2d(hidden2),\n",
        "        nn.ReLU(),\n",
        "        nn.MaxPool2d(kernel_size = 2))\n",
        "    self.fc = nn.Linear(hidden2 * k_conv_size * k_conv_size, output_size)\n",
        "\n",
        "  def forward(self, x):\n",
        "    out = self.layer1(x)\n",
        "    out = self.layer2(out)\n",
        "    out = out.reshape(out.size(0), -1)\n",
        "    out = self.fc(out)\n",
        "\n",
        "    return out"
      ],
      "execution_count": 0,
      "outputs": []
    },
    {
      "cell_type": "code",
      "metadata": {
        "id": "CKYHDi09ONum",
        "colab_type": "code",
        "colab": {}
      },
      "source": [
        "model = ConvNet()\n",
        "learning_rate = 0.001\n",
        "criterion = nn.CrossEntropyLoss()\n",
        "optimizer = torch.optim.Adam(model.parameters(), lr = learning_rate)"
      ],
      "execution_count": 0,
      "outputs": []
    },
    {
      "cell_type": "code",
      "metadata": {
        "id": "t4ZRZCKbO1Tl",
        "colab_type": "code",
        "colab": {}
      },
      "source": [
        "total_step = len(trainloader)\n",
        "epochs = 10\n"
      ],
      "execution_count": 0,
      "outputs": []
    },
    {
      "cell_type": "code",
      "metadata": {
        "id": "HMIyS5K4lImY",
        "colab_type": "code",
        "outputId": "7911cda3-a970-40bc-b79a-a1a53f308182",
        "colab": {
          "base_uri": "https://localhost:8080/",
          "height": 538
        }
      },
      "source": [
        "for epoch in range(epochs):\n",
        "  for i,(images, labels) in enumerate(trainloader):\n",
        "    outputs = model(images)\n",
        "    loss = criterion(outputs, labels)\n",
        "\n",
        "    optimizer.zero_grad()\n",
        "    loss.backward()\n",
        "    optimizer.step()\n",
        "\n",
        "    if (i+1) % 2000 == 0:\n",
        "      print(f'epoch [{epoch+1}/{epochs}], Step [{i+1} / {total_step}], Loss: {loss.item()}')"
      ],
      "execution_count": 0,
      "outputs": [
        {
          "output_type": "stream",
          "text": [
            "epoch [1/10], Step [2000 / 6250], Loss: 1.2395622730255127\n",
            "epoch [1/10], Step [4000 / 6250], Loss: 1.3187949657440186\n",
            "epoch [1/10], Step [6000 / 6250], Loss: 0.6629356145858765\n",
            "epoch [2/10], Step [2000 / 6250], Loss: 1.3842633962631226\n",
            "epoch [2/10], Step [4000 / 6250], Loss: 1.5339078903198242\n",
            "epoch [2/10], Step [6000 / 6250], Loss: 1.3150367736816406\n",
            "epoch [3/10], Step [2000 / 6250], Loss: 1.1863317489624023\n",
            "epoch [3/10], Step [4000 / 6250], Loss: 0.9544123411178589\n",
            "epoch [3/10], Step [6000 / 6250], Loss: 1.0017305612564087\n",
            "epoch [4/10], Step [2000 / 6250], Loss: 0.4848536550998688\n",
            "epoch [4/10], Step [4000 / 6250], Loss: 0.845678448677063\n",
            "epoch [4/10], Step [6000 / 6250], Loss: 1.0908657312393188\n",
            "epoch [5/10], Step [2000 / 6250], Loss: 0.13531482219696045\n",
            "epoch [5/10], Step [4000 / 6250], Loss: 1.3395497798919678\n",
            "epoch [5/10], Step [6000 / 6250], Loss: 1.6318212747573853\n",
            "epoch [6/10], Step [2000 / 6250], Loss: 0.21449047327041626\n",
            "epoch [6/10], Step [4000 / 6250], Loss: 1.2773784399032593\n",
            "epoch [6/10], Step [6000 / 6250], Loss: 0.3358149230480194\n",
            "epoch [7/10], Step [2000 / 6250], Loss: 0.5619945526123047\n",
            "epoch [7/10], Step [4000 / 6250], Loss: 0.8863173723220825\n",
            "epoch [7/10], Step [6000 / 6250], Loss: 0.531806468963623\n",
            "epoch [8/10], Step [2000 / 6250], Loss: 1.59627366065979\n",
            "epoch [8/10], Step [4000 / 6250], Loss: 0.33790767192840576\n",
            "epoch [8/10], Step [6000 / 6250], Loss: 1.0598669052124023\n",
            "epoch [9/10], Step [2000 / 6250], Loss: 0.9730486869812012\n",
            "epoch [9/10], Step [4000 / 6250], Loss: 0.6212484240531921\n",
            "epoch [9/10], Step [6000 / 6250], Loss: 0.20360833406448364\n",
            "epoch [10/10], Step [2000 / 6250], Loss: 1.8704386949539185\n",
            "epoch [10/10], Step [4000 / 6250], Loss: 0.6607151031494141\n",
            "epoch [10/10], Step [6000 / 6250], Loss: 1.7472476959228516\n"
          ],
          "name": "stdout"
        }
      ]
    },
    {
      "cell_type": "code",
      "metadata": {
        "id": "PIXW7JvfxhHf",
        "colab_type": "code",
        "outputId": "a2dff999-8cbb-449f-d264-aa0f5be07e25",
        "colab": {
          "base_uri": "https://localhost:8080/",
          "height": 34
        }
      },
      "source": [
        "model.eval()\n",
        "with torch.no_grad():\n",
        "  correct = 0\n",
        "  count = 0\n",
        "  for images, labels in testloader:\n",
        "    outputs = model(images)\n",
        "    _, predicted = torch.max(outputs.data, 1)\n",
        "    count+= labels.size(0)\n",
        "    correct +=(predicted == labels).sum().item()\n",
        "\n",
        "  print(f'Accuracy of the model on the test images is  { 100 * correct / count} ')"
      ],
      "execution_count": 0,
      "outputs": [
        {
          "output_type": "stream",
          "text": [
            "Accuracy of the model on the test images is  68.36 \n"
          ],
          "name": "stdout"
        }
      ]
    },
    {
      "cell_type": "code",
      "metadata": {
        "id": "9Tvh1v6k1F6F",
        "colab_type": "code",
        "colab": {}
      },
      "source": [
        ""
      ],
      "execution_count": 0,
      "outputs": []
    }
  ]
}